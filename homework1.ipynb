{
 "cells": [
  {
   "cell_type": "code",
   "execution_count": 1,
   "metadata": {},
   "outputs": [],
   "source": [
    "import numpy as np"
   ]
  },
  {
   "cell_type": "markdown",
   "metadata": {},
   "source": [
    "## 1. Подберите скорость обучения (alpha) и количество итераций:"
   ]
  },
  {
   "cell_type": "code",
   "execution_count": 2,
   "metadata": {},
   "outputs": [],
   "source": [
    "X = np.array([[1, 1, 1, 1, 1, 1, 1, 1, 1, 1],\n",
    "              [1, 1, 2, 1, 3, 0, 5, 10, 1, 2]])"
   ]
  },
  {
   "cell_type": "code",
   "execution_count": 3,
   "metadata": {},
   "outputs": [],
   "source": [
    "y = [45, 55, 50, 59, 65, 35, 75, 80, 50, 60]"
   ]
  },
  {
   "cell_type": "code",
   "execution_count": 4,
   "metadata": {},
   "outputs": [],
   "source": [
    "def calc_mse(y, y_pred):\n",
    "  err = np.mean((y - y_pred)**2)\n",
    "  return err"
   ]
  },
  {
   "cell_type": "code",
   "execution_count": 108,
   "metadata": {},
   "outputs": [
    {
     "data": {
      "text/plain": [
       "(array([1. , 0.5]), 0.06)"
      ]
     },
     "execution_count": 108,
     "metadata": {},
     "output_type": "execute_result"
    }
   ],
   "source": [
    "W = np.array([1, 0.5])\n",
    "n = X.shape[1]\n",
    "alpha = 0.6e-1\n",
    "W, alpha"
   ]
  },
  {
   "cell_type": "code",
   "execution_count": 109,
   "metadata": {},
   "outputs": [
    {
     "data": {
      "text/plain": [
       "200"
      ]
     },
     "execution_count": 109,
     "metadata": {},
     "output_type": "execute_result"
    }
   ],
   "source": [
    "# максимальное число итераций\n",
    "max_iter = 200\n",
    "max_iter"
   ]
  },
  {
   "cell_type": "code",
   "execution_count": 110,
   "metadata": {},
   "outputs": [
    {
     "name": "stdout",
     "output_type": "stream",
     "text": [
      "0 [ 7.612 20.9  ] 3173.15\n",
      "20 [35.85695572  6.15284752] 125.86627725452965\n",
      "40 [44.0891315   4.49316871] 51.980145468359524\n",
      "60 [46.3654434   4.07078732] 46.39687623882493\n",
      "80 [46.99317184  3.95484256] 45.972423420722386\n",
      "100 [47.16625286  3.92288138] 45.94015500316733\n",
      "120 [47.21397542  3.91406904] 45.93770184282277\n",
      "140 [47.22713366  3.91163927] 45.93751534481224\n",
      "160 [47.2307617   3.91096933] 45.93750116656743\n",
      "180 [47.23176204  3.91078461] 45.937500088686626\n",
      "199 [47.23203087  3.91073496] 45.93750000766935\n"
     ]
    }
   ],
   "source": [
    "for i in range(max_iter):\n",
    "    y_pred = np.dot(W, X)\n",
    "    err = calc_mse(y, y_pred)\n",
    "    \n",
    "    for ii in range(W.shape[0]):\n",
    "        W[ii] -= alpha * (1/n * 2 * np.sum(X[ii] * (y_pred - y)))\n",
    "    if i % (max_iter/10) == 0:\n",
    "        print(i, W, err)\n",
    "        \n",
    "print(i, W, err)"
   ]
  },
  {
   "cell_type": "markdown",
   "metadata": {},
   "source": [
    "#### Итого: alpha = 0.06, макс. кол-во итераций = 250"
   ]
  },
  {
   "cell_type": "markdown",
   "metadata": {},
   "source": [
    "## *2. В этом коде мы избавляемся от итераций по весам, но тут есть ошибка, исправьте ее:"
   ]
  },
  {
   "cell_type": "code",
   "execution_count": 100,
   "metadata": {},
   "outputs": [
    {
     "name": "stdout",
     "output_type": "stream",
     "text": [
      "0 [ 7.612 20.9  ] 3173.15\n",
      "100 [47.16625286  3.92288138] 45.94015500316733\n",
      "200 [47.23203786  3.91073367] 45.937500006742255\n",
      "300 [47.23214269  3.91071432] 45.93750000000001\n",
      "400 [47.23214286  3.91071429] 45.93749999999999\n",
      "500 [47.23214286  3.91071429] 45.93749999999999\n",
      "600 [47.23214286  3.91071429] 45.937500000000014\n",
      "700 [47.23214286  3.91071429] 45.937500000000014\n",
      "800 [47.23214286  3.91071429] 45.937500000000014\n",
      "900 [47.23214286  3.91071429] 45.937500000000014\n"
     ]
    }
   ],
   "source": [
    "W = np.array([1, 0.5])\n",
    "for i in range(1000):\n",
    "    y_pred = np.dot(W, X)\n",
    "    err = calc_mse(y, y_pred)\n",
    "\n",
    "    W[0] -= (alpha * (1/n * 2 * np.sum(X[0] * (y_pred - y))))\n",
    "    W[1] -= (alpha * (1/n * 2 * np.sum(X[1] * (y_pred - y))))\n",
    "    if i % 100 == 0:\n",
    "        print(i, W, err)"
   ]
  },
  {
   "cell_type": "markdown",
   "metadata": {},
   "source": [
    "#### Поскольку коэффициентов два, то можно просто двумя строками записать одну и ту же формулу."
   ]
  },
  {
   "cell_type": "markdown",
   "metadata": {},
   "source": [
    "## *3: вместо того, чтобы задавать количество итераций, задайте условие остановки алгоритма - когда ошибка за итерацию начинает изменяться ниже определенного порога \n",
    "(упрощенный аналог параметра tol в линейной регрессии в sklearn)."
   ]
  },
  {
   "cell_type": "code",
   "execution_count": 112,
   "metadata": {},
   "outputs": [
    {
     "name": "stdout",
     "output_type": "stream",
     "text": [
      "0 [ 7.612 20.9  ] 3173.15\n",
      "20 [35.85695572  6.15284752] 125.86627725452965\n",
      "40 [44.0891315   4.49316871] 51.980145468359524\n",
      "60 [46.3654434   4.07078732] 46.39687623882493\n",
      "80 [46.99317184  3.95484256] 45.972423420722386\n",
      "100 [47.16625286  3.92288138] 45.94015500316733\n",
      "120 [47.21397542  3.91406904] 45.93770184282277\n",
      "140 [47.22713366  3.91163927] 45.93751534481224\n",
      "160 [47.2307617   3.91096933] 45.93750116656743\n",
      "180 [47.23176204  3.91078461] 45.937500088686626\n",
      "182 [47.2317858   3.91078022] 45.9375000685414\n"
     ]
    }
   ],
   "source": [
    "# критерий сходимости (разница весов, при которой алгоритм останавливается)\n",
    "min_weight_dist = 1e-8\n",
    "\n",
    "W = np.array([1, 0.5])\n",
    "\n",
    "for i in range(max_iter):\n",
    "    y_pred = np.dot(W, X)\n",
    "    err0 = err\n",
    "    err = calc_mse(y, y_pred)\n",
    "    if abs(err-err0) <= min_weight_dist:\n",
    "        print(i, W, err)\n",
    "        break\n",
    "    \n",
    "    for ii in range(W.shape[0]):\n",
    "        W[ii] -= alpha * (1/n * 2 * np.sum(X[ii] * (y_pred - y)))\n",
    "    if i % (max_iter/10) == 0:\n",
    "        print(i, W, err)"
   ]
  }
 ],
 "metadata": {
  "kernelspec": {
   "display_name": "Python 3",
   "language": "python",
   "name": "python3"
  },
  "language_info": {
   "codemirror_mode": {
    "name": "ipython",
    "version": 3
   },
   "file_extension": ".py",
   "mimetype": "text/x-python",
   "name": "python",
   "nbconvert_exporter": "python",
   "pygments_lexer": "ipython3",
   "version": "3.7.3"
  }
 },
 "nbformat": 4,
 "nbformat_minor": 2
}
