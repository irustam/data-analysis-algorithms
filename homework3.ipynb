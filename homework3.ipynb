{
 "cells": [
  {
   "cell_type": "code",
   "execution_count": 6,
   "metadata": {},
   "outputs": [],
   "source": [
    "import numpy as np\n",
    "import matplotlib.pyplot as plt"
   ]
  },
  {
   "cell_type": "code",
   "execution_count": 7,
   "metadata": {
    "colab": {},
    "colab_type": "code",
    "id": "FeKFn2yb1To4"
   },
   "outputs": [],
   "source": [
    "X = np.array([[1, 1, 1, 1, 1, 1, 1, 1, 1, 1],\n",
    "              [1, 1, 2, 1, 3, 0, 5, 10, 1, 2],\n",
    "              [500, 700, 750, 600, 1450,\n",
    "               800, 1500, 2000, 450, 1000],\n",
    "              [1, 1, 2, 1, 2, \n",
    "               1, 3, 3, 1, 2]], dtype = np.float64)\n",
    "y = np.array([0, 0, 1, 0, 1, 0, 1, 0, 1, 1], dtype = np.float64)"
   ]
  },
  {
   "cell_type": "code",
   "execution_count": 8,
   "metadata": {
    "colab": {},
    "colab_type": "code",
    "id": "M-aO1NTxOUfo"
   },
   "outputs": [],
   "source": [
    "def calc_std_feat(x):\n",
    "    res = (x - x.mean()) / x.std()\n",
    "    return res"
   ]
  },
  {
   "cell_type": "code",
   "execution_count": 9,
   "metadata": {
    "colab": {},
    "colab_type": "code",
    "id": "D8EL0iGJOVpe"
   },
   "outputs": [],
   "source": [
    "X_st = X.copy()\n",
    "X_st[2, :] = calc_std_feat(X[2, :])"
   ]
  },
  {
   "cell_type": "code",
   "execution_count": 10,
   "metadata": {
    "colab": {
     "base_uri": "https://localhost:8080/",
     "height": 155
    },
    "colab_type": "code",
    "id": "gviMxz7EOuI3",
    "outputId": "af9a2576-f4d7-41d7-e216-46e0a068cfad"
   },
   "outputs": [
    {
     "data": {
      "text/plain": [
       "array([[ 1.        ,  1.        ,  1.        ,  1.        ,  1.        ,\n",
       "         1.        ,  1.        ,  1.        ,  1.        ,  1.        ],\n",
       "       [ 1.        ,  1.        ,  2.        ,  1.        ,  3.        ,\n",
       "         0.        ,  5.        , 10.        ,  1.        ,  2.        ],\n",
       "       [-0.97958969, -0.56713087, -0.46401617, -0.77336028,  0.97958969,\n",
       "        -0.36090146,  1.08270439,  2.11385144, -1.08270439,  0.05155735],\n",
       "       [ 1.        ,  1.        ,  2.        ,  1.        ,  2.        ,\n",
       "         1.        ,  3.        ,  3.        ,  1.        ,  2.        ]])"
      ]
     },
     "execution_count": 10,
     "metadata": {},
     "output_type": "execute_result"
    }
   ],
   "source": [
    "X_st"
   ]
  },
  {
   "cell_type": "markdown",
   "metadata": {},
   "source": [
    "## 1*. Измените функцию calc_logloss так, чтобы нули по возможности не попадали в np.log.  "
   ]
  },
  {
   "cell_type": "code",
   "execution_count": 11,
   "metadata": {},
   "outputs": [],
   "source": [
    "# Добавим очень маленькое значение в логарифм, чтобы он никогда не обнулялся\n",
    "def calc_logloss(y, y_pred):\n",
    "    z = 1e-5\n",
    "    err = - np.mean(y * np.log(y_pred + z) + (1.0 - y) * np.log(1.0 - y_pred + z))\n",
    "    return err"
   ]
  },
  {
   "cell_type": "code",
   "execution_count": 12,
   "metadata": {
    "colab": {
     "base_uri": "https://localhost:8080/",
     "height": 34
    },
    "colab_type": "code",
    "id": "R6zfOHMrBvnX",
    "outputId": "c26e639b-b7a5-414c-a920-928da0513938"
   },
   "outputs": [
    {
     "data": {
      "text/plain": [
       "3.9078747580623716"
      ]
     },
     "execution_count": 12,
     "metadata": {},
     "output_type": "execute_result"
    }
   ],
   "source": [
    "# Пример применения\n",
    "y1 = np.array([1, 0, 1])\n",
    "y_pred1 = np.array([0.9, 0.1, 0])\n",
    "calc_logloss(y1, y_pred1)"
   ]
  },
  {
   "cell_type": "markdown",
   "metadata": {},
   "source": [
    "## 2. Подберите аргументы функции eval_model для логистической регрессии таким образом, чтобы log loss был минимальным."
   ]
  },
  {
   "cell_type": "code",
   "execution_count": 49,
   "metadata": {},
   "outputs": [],
   "source": [
    "def sigmoid(z):\n",
    "    res = 1 / (1 + np.exp(-z))\n",
    "    return res"
   ]
  },
  {
   "cell_type": "code",
   "execution_count": 73,
   "metadata": {
    "colab": {},
    "colab_type": "code",
    "id": "qtgUN3LW-UIq"
   },
   "outputs": [],
   "source": [
    "# Logistic Regression\n",
    "def eval_model(X, y, iterations, alpha=1e-4):\n",
    "    np.random.seed(42)\n",
    "    W = np.random.randn(X.shape[0])\n",
    "    n = X.shape[1]\n",
    "    err_lst = []\n",
    "    for i in range(1, iterations+1):\n",
    "        z = np.dot(W, X)\n",
    "        y_pred = sigmoid(z)\n",
    "        err = calc_logloss(y, y_pred)\n",
    "        err_lst.append(err)\n",
    "        W -= alpha * (1/n * np.dot((y_pred - y), X.T))\n",
    "        if i % (iterations / 10) == 0:\n",
    "            print(i, W, err)\n",
    "    return W, err_lst"
   ]
  },
  {
   "cell_type": "code",
   "execution_count": 74,
   "metadata": {
    "colab": {
     "base_uri": "https://localhost:8080/",
     "height": 190
    },
    "colab_type": "code",
    "id": "oqX7loklBmYZ",
    "outputId": "f4849295-1f14-40d8-c8f2-d1b002e130c5"
   },
   "outputs": [
    {
     "name": "stdout",
     "output_type": "stream",
     "text": [
      "10000 [-2.77079473 -0.99580928  0.56650766  3.2676589 ] 0.40581408025431676\n",
      "20000 [-4.59029892 -1.03598171 -0.13800874  4.44457898] 0.35330646857191583\n",
      "30000 [-5.90941861 -1.08771192 -0.62104909  5.36111049] 0.32499058711925344\n",
      "40000 [-6.96073579 -1.14368109 -0.98673759  6.13012867] 0.3066052636070803\n",
      "50000 [-7.85441079 -1.19932069 -1.28729658  6.80520914] 0.2931074865305321\n",
      "60000 [-8.64676587 -1.25343997 -1.54768639  7.41639955] 0.28237746963896115\n",
      "70000 [-9.369139   -1.30582517 -1.78113764  7.98151615] 0.27338866610554136\n",
      "80000 [-10.04023916  -1.35653126  -1.99529773   8.51167559] 0.2655872711487036\n",
      "90000 [-10.67189098  -1.40567714  -2.19489264   9.01414008] 0.25864859172679255\n",
      "100000 [-11.27192801  -1.45338517  -2.38300258   9.49385018] 0.25236925964026347\n"
     ]
    }
   ],
   "source": [
    "W, err_lst = eval_model(X_st, y, iterations=100000, alpha=1e-2)"
   ]
  },
  {
   "cell_type": "code",
   "execution_count": 34,
   "metadata": {},
   "outputs": [
    {
     "data": {
      "image/png": "[encoded data removed]",
      "text/plain": [
       "<Figure size 936x576 with 1 Axes>"
      ]
     },
     "metadata": {
      "needs_background": "light"
     },
     "output_type": "display_data"
    }
   ],
   "source": [
    "# log loss можно уменьшать до бесконечности. Он стремится к нулю при увеличении итераций, но модель при этом переобучается\n",
    "plt.figure(figsize=(13, 8))\n",
    "plt.plot(err_lst)\n",
    "\n",
    "plt.show()"
   ]
  },
  {
   "cell_type": "markdown",
   "metadata": {},
   "source": [
    "## 3. Создайте функцию calc_pred_proba, возвращающую предсказанную вероятность класса 1 (на вход подаются W, который уже посчитан функцией eval_model и X, на выходе - массив y_pred_proba)."
   ]
  },
  {
   "cell_type": "markdown",
   "metadata": {},
   "source": [
    "#### Примем за минимальное значение вероятности для класса 1 равным 0.5"
   ]
  },
  {
   "cell_type": "code",
   "execution_count": 97,
   "metadata": {},
   "outputs": [],
   "source": [
    "#добавил еще на вход 2 переменные:\n",
    "#k - для указания минимального значения\n",
    "#cls - для указания, какой класс возвращаем. По умолчанию, возвращаем вероятности всех классов\n",
    "\n",
    "def calc_pred_proba(W, X, k = 0.5, cls = 2):\n",
    "    X_st = X.copy()\n",
    "    X_st[2, :] = calc_std_feat(X[2, :])\n",
    "    y_pred_proba = 1/(1 + np.exp(-np.dot(W, X_st)))\n",
    "    if cls == 0:\n",
    "        return y_pred_proba[np.where(y_pred_proba <= k)]\n",
    "    elif cls == 1:\n",
    "        return y_pred_proba[np.where(y_pred_proba > k)]\n",
    "    else:\n",
    "        return y_pred_proba"
   ]
  },
  {
   "cell_type": "code",
   "execution_count": 99,
   "metadata": {
    "scrolled": false
   },
   "outputs": [
    {
     "data": {
      "text/plain": [
       "array([0.99730794, 0.73521642, 0.99936586, 0.99086206])"
      ]
     },
     "execution_count": 99,
     "metadata": {},
     "output_type": "execute_result"
    }
   ],
   "source": [
    "calc_pred_proba(W, X, cls = 1)"
   ]
  },
  {
   "cell_type": "markdown",
   "metadata": {},
   "source": [
    "## 4. Создайте функцию calc_pred, возвращающую предсказанный класс (на вход подаются W, который уже посчитан функцией eval_model и X, на выходе - массив y_pred)."
   ]
  },
  {
   "cell_type": "code",
   "execution_count": 102,
   "metadata": {},
   "outputs": [],
   "source": [
    "def calc_pred(W, X, k = 0.5):\n",
    "    y_pred_proba = calc_pred_proba(W, X, k)\n",
    "    return np.logical_and(y_pred_proba > k, y_pred_proba <= 1).astype(int)"
   ]
  },
  {
   "cell_type": "code",
   "execution_count": 103,
   "metadata": {},
   "outputs": [
    {
     "data": {
      "text/plain": [
       "array([0, 0, 1, 0, 1, 0, 1, 0, 0, 1])"
      ]
     },
     "execution_count": 103,
     "metadata": {},
     "output_type": "execute_result"
    }
   ],
   "source": [
    "y_pred = calc_pred(W, X)\n",
    "y_pred"
   ]
  },
  {
   "cell_type": "markdown",
   "metadata": {},
   "source": [
    "## 5. Посчитайте Accuracy, матрицу ошибок, точность и полноту, а также F1 score."
   ]
  },
  {
   "cell_type": "code",
   "execution_count": 144,
   "metadata": {},
   "outputs": [],
   "source": [
    "def marix_value(y, y_pred):\n",
    "    \"\"\"\n",
    "    Матрица ошибок\n",
    "    \"\"\"\n",
    "    y1 = y[np.where(y_pred == 1)].astype(int)\n",
    "    y2 = y[np.where(y_pred == 0)].astype(int)\n",
    "    \n",
    "    TP = len(np.where(y1 == 1)[0])\n",
    "    FP = len(np.where(y1 == 0)[0])\n",
    "    TN = len(np.where(y2 == 0)[0])\n",
    "    FN = len(np.where(y2 == 1)[0])\n",
    "    \n",
    "    return TP, TN, FP, FN"
   ]
  },
  {
   "cell_type": "code",
   "execution_count": 149,
   "metadata": {},
   "outputs": [
    {
     "data": {
      "text/plain": [
       "(4, 5, 0, 1)"
      ]
     },
     "execution_count": 149,
     "metadata": {},
     "output_type": "execute_result"
    }
   ],
   "source": [
    "marix_value(y, y_pred)"
   ]
  },
  {
   "cell_type": "code",
   "execution_count": 148,
   "metadata": {},
   "outputs": [],
   "source": [
    "def accuracy(y, y_pred):\n",
    "    \"\"\"\n",
    "    Accuracy\n",
    "    \"\"\"\n",
    "    TP, TN, FP, FN = marix_value(y, y_pred)\n",
    "    return (TP + TN) / (TP + TN + FP + FN)"
   ]
  },
  {
   "cell_type": "code",
   "execution_count": 150,
   "metadata": {
    "scrolled": true
   },
   "outputs": [
    {
     "data": {
      "text/plain": [
       "0.9"
      ]
     },
     "execution_count": 150,
     "metadata": {},
     "output_type": "execute_result"
    }
   ],
   "source": [
    "accuracy(y, y_pred)"
   ]
  },
  {
   "cell_type": "code",
   "execution_count": 151,
   "metadata": {},
   "outputs": [],
   "source": [
    "def precision(y, y_pred):\n",
    "    \"\"\"\n",
    "    Точность\n",
    "    \"\"\"\n",
    "    TP, TN, FP, FN = marix_value(y, y_pred)\n",
    "    return TP / (TP + FP)"
   ]
  },
  {
   "cell_type": "code",
   "execution_count": 152,
   "metadata": {},
   "outputs": [],
   "source": [
    "def recall(y, y_pred):\n",
    "    \"\"\"\n",
    "    Полнота\n",
    "    \"\"\"\n",
    "    TP, TN, FP, FN = marix_value(y, y_pred)\n",
    "    return TP / (TP + FN)"
   ]
  },
  {
   "cell_type": "code",
   "execution_count": 153,
   "metadata": {},
   "outputs": [
    {
     "data": {
      "text/plain": [
       "1.0"
      ]
     },
     "execution_count": 153,
     "metadata": {},
     "output_type": "execute_result"
    }
   ],
   "source": [
    "precision(y, y_pred)"
   ]
  },
  {
   "cell_type": "code",
   "execution_count": 154,
   "metadata": {},
   "outputs": [
    {
     "data": {
      "text/plain": [
       "0.8"
      ]
     },
     "execution_count": 154,
     "metadata": {},
     "output_type": "execute_result"
    }
   ],
   "source": [
    "recall(y, y_pred)"
   ]
  },
  {
   "cell_type": "code",
   "execution_count": 155,
   "metadata": {},
   "outputs": [],
   "source": [
    "def f1_score(y, y_pred):\n",
    "    \"\"\"\n",
    "    F1 score\n",
    "    \"\"\"\n",
    "    p = precision(y, y_pred)\n",
    "    r = recall(y, y_pred)\n",
    "    return (2 * p * r) / (p + r)"
   ]
  },
  {
   "cell_type": "code",
   "execution_count": 156,
   "metadata": {},
   "outputs": [
    {
     "data": {
      "text/plain": [
       "0.888888888888889"
      ]
     },
     "execution_count": 156,
     "metadata": {},
     "output_type": "execute_result"
    }
   ],
   "source": [
    "f1_score(y, y_pred)"
   ]
  },
  {
   "cell_type": "markdown",
   "metadata": {},
   "source": [
    "## 6. Могла ли модель переобучиться? Почему?"
   ]
  },
  {
   "cell_type": "markdown",
   "metadata": {},
   "source": [
    "#### Конечно. И скорей всего она переобучилась, поскольку данных на вход было подано мало, а итераций довольно много"
   ]
  },
  {
   "cell_type": "markdown",
   "metadata": {},
   "source": [
    "## 7*. Создайте функции eval_model_l1 и eval_model_l2 с применением L1 и L2 регуляризаций соответственно."
   ]
  },
  {
   "cell_type": "code",
   "execution_count": 161,
   "metadata": {},
   "outputs": [],
   "source": [
    "# Logistic Regression L1\n",
    "def eval_model_l1(X, y, iterations, alpha=1e-4, lambda_=1e-8):\n",
    "    np.random.seed(42)\n",
    "    W = np.random.randn(X.shape[0])\n",
    "    n = X.shape[1]\n",
    "    err_lst = []\n",
    "    for i in range(1, iterations+1):\n",
    "        z = np.dot(W, X)\n",
    "        y_pred = sigmoid(z)\n",
    "        err = calc_logloss(y, y_pred)\n",
    "        err_lst.append(err)\n",
    "        W -= alpha * (1/n * np.dot((y_pred - y), X.T) + lambda_ * W)\n",
    "        if i % (iterations / 10) == 0:\n",
    "            print(i, W, err)\n",
    "    return W, err_lst"
   ]
  },
  {
   "cell_type": "code",
   "execution_count": 162,
   "metadata": {},
   "outputs": [],
   "source": [
    "# Logistic Regression L2\n",
    "def eval_model_l2(X, y, iterations, alpha=1e-4, lambda_=1e-8):\n",
    "    np.random.seed(42)\n",
    "    W = np.random.randn(X.shape[0])\n",
    "    n = X.shape[1]\n",
    "    err_lst = []\n",
    "    for i in range(1, iterations+1):\n",
    "        z = np.dot(W, X)\n",
    "        y_pred = sigmoid(z)\n",
    "        err = calc_logloss(y, y_pred)\n",
    "        err_lst.append(err)\n",
    "        W -= alpha * (1/n * np.dot((y_pred - y), X.T) + lambda_ * np.sign(W))\n",
    "        if i % (iterations / 10) == 0:\n",
    "            print(i, W, err)\n",
    "    return W, err_lst"
   ]
  },
  {
   "cell_type": "code",
   "execution_count": 159,
   "metadata": {},
   "outputs": [
    {
     "name": "stdout",
     "output_type": "stream",
     "text": [
      "10000 [-2.77079339 -0.99580901  0.56650774  3.26765766] 0.40581412809086714\n",
      "20000 [-4.59029464 -1.03598131 -0.1380076   4.44457565] 0.35330657402325333\n",
      "30000 [-5.90941046 -1.08771128 -0.62104663  5.36110422] 0.32499074427100083\n",
      "40000 [-6.96072295 -1.1436801  -0.98673361  6.1301187 ] 0.3066054717109123\n",
      "50000 [-7.85439251 -1.19931927 -1.28729088  6.80519479] 0.29310774770556547\n",
      "60000 [-8.64674143 -1.25343804 -1.54767879  7.41638019] 0.2823777868775489\n",
      "70000 [-9.36910772 -1.30582265 -1.78112794  7.98149121] 0.27338904241757805\n",
      "80000 [-10.04020042  -1.35652809  -1.99528575   8.51164453] 0.2655877092090972\n",
      "90000 [-10.67184419  -1.40567327  -2.19487824   9.01410243] 0.2586490937432918\n",
      "100000 [-11.27187263  -1.45338054  -2.38298558   9.4938055 ] 0.25236982732456564\n"
     ]
    }
   ],
   "source": [
    "W, err_lst = eval_model_l1(X_st, y, iterations=100000, alpha=1e-2)"
   ]
  },
  {
   "cell_type": "code",
   "execution_count": 160,
   "metadata": {},
   "outputs": [
    {
     "name": "stdout",
     "output_type": "stream",
     "text": [
      "10000 [-2.77079417 -0.99580911  0.56650757  3.26765829] 0.40581410042071686\n",
      "20000 [-4.59029775 -1.03598157 -0.13800843  4.44457801] 0.353306497967474\n",
      "30000 [-5.90941655 -1.08771179 -0.62104835  5.36110896] 0.3249906267964905\n",
      "40000 [-6.96073291 -1.1436809  -0.98673659  6.13012648] 0.30660531029064153\n",
      "50000 [-7.85440708 -1.19932043 -1.28729532  6.80520627] 0.29310753945674517\n",
      "60000 [-8.64676133 -1.25343964 -1.54768488  7.41639599] 0.2823775286405886\n",
      "70000 [-9.36913359 -1.30582475 -1.78113587  7.98151187] 0.2733887311402988\n",
      "80000 [-10.04023289  -1.35653076  -1.9952957    8.51167058] 0.265587342166807\n",
      "90000 [-10.67188382  -1.40567657  -2.19489035   9.01413433] 0.25864866863632885\n",
      "100000 [-11.27191995  -1.4533845   -2.38300002   9.4938437 ] 0.2523693423038813\n"
     ]
    }
   ],
   "source": [
    "W, err_lst = eval_model_l2(X_st, y, iterations=100000, alpha=1e-2)"
   ]
  }
 ],
 "metadata": {
  "kernelspec": {
   "display_name": "Python 3",
   "language": "python",
   "name": "python3"
  },
  "language_info": {
   "codemirror_mode": {
    "name": "ipython",
    "version": 3
   },
   "file_extension": ".py",
   "mimetype": "text/x-python",
   "name": "python",
   "nbconvert_exporter": "python",
   "pygments_lexer": "ipython3",
   "version": "3.7.3"
  }
 },
 "nbformat": 4,
 "nbformat_minor": 4
}
